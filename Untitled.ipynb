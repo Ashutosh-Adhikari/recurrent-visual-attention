{
 "cells": [
  {
   "cell_type": "code",
   "execution_count": 1,
   "metadata": {},
   "outputs": [],
   "source": [
    "import os\n",
    "import sys\n",
    "import pickle\n",
    "import numpy as np\n",
    "import matplotlib.pyplot as plt\n",
    "import matplotlib.animation as animation\n",
    "import matplotlib.patches as patches\n",
    "\n",
    "plot_dir = './plots/'\n",
    "size = 8"
   ]
  },
  {
   "cell_type": "code",
   "execution_count": 2,
   "metadata": {},
   "outputs": [],
   "source": [
    "def denormalize(T, coords):\n",
    "    return (0.5 * ((coords + 1.0) * T))\n",
    "\n",
    "def bounding_box(x, y, size, color='w'):\n",
    "    x = int(x - (size / 2))\n",
    "    y = int(y - (size / 2))\n",
    "    rect = patches.Rectangle(\n",
    "        (x, y), size, size, linewidth=1, edgecolor=color, fill=False\n",
    "    )\n",
    "    return rect"
   ]
  },
  {
   "cell_type": "code",
   "execution_count": 3,
   "metadata": {},
   "outputs": [],
   "source": [
    "# read in pickle files\n",
    "glimpses = pickle.load(open(plot_dir + \"g_6.p\", \"rb\"))\n",
    "locations = pickle.load(open(plot_dir + \"l_6.p\", \"rb\"))\n",
    "\n",
    "num_anims = len(locations)\n",
    "num_cols = glimpses[0].shape[0]\n",
    "img_shape = glimpses[0].shape[1]\n",
    "\n",
    "glimpses = np.concatenate(glimpses)\n",
    "\n",
    "# denormalize coordinates\n",
    "coords = [denormalize(img_shape, l) for l in locations]\n",
    "\n",
    "fig, axs = plt.subplots(nrows=1, ncols=num_cols, figsize=(15, 5))\n",
    "fig.set_dpi(100)"
   ]
  },
  {
   "cell_type": "code",
   "execution_count": 4,
   "metadata": {},
   "outputs": [],
   "source": [
    "# plot base image\n",
    "for j, ax in enumerate(axs.flat):\n",
    "    ax.imshow(glimpses[j], cmap=\"Greys_r\")\n",
    "    ax.get_xaxis().set_visible(False)\n",
    "    ax.get_yaxis().set_visible(False)"
   ]
  },
  {
   "cell_type": "code",
   "execution_count": null,
   "metadata": {},
   "outputs": [],
   "source": [
    "def updateData(curr):\n",
    "    co = coords[curr]\n",
    "    for j, ax in enumerate(axs.flat):\n",
    "        for artist in ax.collections:\n",
    "            artist.remove()\n",
    "        c = co[j]\n",
    "        rect = bounding_box(\n",
    "            c[0], c[1], size, color='r'\n",
    "        )\n",
    "        ax.add_patch(rect)"
   ]
  },
  {
   "cell_type": "code",
   "execution_count": null,
   "metadata": {},
   "outputs": [],
   "source": [
    "simulation = animation.FuncAnimation(fig, updateData, interval=50, repeat=False)"
   ]
  }
 ],
 "metadata": {
  "kernelspec": {
   "display_name": "Python 3",
   "language": "python",
   "name": "python3"
  },
  "language_info": {
   "codemirror_mode": {
    "name": "ipython",
    "version": 3
   },
   "file_extension": ".py",
   "mimetype": "text/x-python",
   "name": "python",
   "nbconvert_exporter": "python",
   "pygments_lexer": "ipython3",
   "version": "3.6.3"
  }
 },
 "nbformat": 4,
 "nbformat_minor": 2
}
